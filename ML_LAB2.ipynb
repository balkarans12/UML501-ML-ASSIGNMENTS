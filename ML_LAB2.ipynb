{
  "nbformat": 4,
  "nbformat_minor": 0,
  "metadata": {
    "colab": {
      "provenance": []
    },
    "kernelspec": {
      "name": "python3",
      "display_name": "Python 3"
    },
    "language_info": {
      "name": "python"
    }
  },
  "cells": [
    {
      "cell_type": "markdown",
      "source": [
        "NAME : BALKARAN SINGH\n",
        "BATCH : 3Q11\n",
        "ROLL NO : 102317009"
      ],
      "metadata": {
        "id": "6g4vgA-41nNG"
      }
    },
    {
      "cell_type": "markdown",
      "source": [
        "ASSIGNMENT - 2"
      ],
      "metadata": {
        "id": "AojRw5TN1oMd"
      }
    },
    {
      "cell_type": "markdown",
      "source": [
        "PART 1 : Based on Feature Selection, Cleaning, and Preprocessing to Construct an Input from Data\n",
        "Source"
      ],
      "metadata": {
        "id": "vS1kI0Lx1tEp"
      }
    },
    {
      "cell_type": "code",
      "execution_count": 4,
      "metadata": {
        "colab": {
          "base_uri": "https://localhost:8080/"
        },
        "id": "TH_cXhgnzpF8",
        "outputId": "2deccfd7-dc5e-44f8-8a9e-d5ad9dbe2271"
      },
      "outputs": [
        {
          "output_type": "stream",
          "name": "stdout",
          "text": [
            "<bound method NDFrame.head of        CustomerID Title FirstName MiddleName  LastName Suffix  \\\n",
            "0           21173   NaN      Chad          C      Yuan    NaN   \n",
            "1           13249   NaN      Ryan        NaN     Perry    NaN   \n",
            "2           29350   NaN     Julia        NaN  Thompson    NaN   \n",
            "3           13503   NaN  Theodore        NaN     Gomez    NaN   \n",
            "4           22803   NaN  Marshall          J      Shan    NaN   \n",
            "...           ...   ...       ...        ...       ...    ...   \n",
            "18356       25414   NaN     Grace          C    Bailey    NaN   \n",
            "18357       11459   NaN     Tasha        NaN      Deng    NaN   \n",
            "18358       12160   NaN    Jaclyn        NaN     Zhang    NaN   \n",
            "18359       14353   NaN      Erin          I      Reed    NaN   \n",
            "18360       16676   NaN    Amanda        NaN     Perry    NaN   \n",
            "\n",
            "                 AddressLine1 AddressLine2            City  \\\n",
            "0          7090 C. Mount Hood          NaN      Wollongong   \n",
            "1         3651 Willow Lake Rd          NaN         Shawnee   \n",
            "2      1774 Tice Valley Blvd.          NaN     West Covina   \n",
            "3             2103 Baldwin Dr          NaN       Liverpool   \n",
            "4             Am Gallberg 234          NaN           Werne   \n",
            "...                       ...          ...             ...   \n",
            "18356      6627 Camelback Ct.          NaN        Coronado   \n",
            "18357         9627 Kendall Rd          NaN  Port Macquarie   \n",
            "18358       4364 Viera Avenue          NaN       Beaverton   \n",
            "18359  3866 Mt. Everest Court          NaN       Vancouver   \n",
            "18360     7870 Orangewood Dr.          NaN       Grossmont   \n",
            "\n",
            "         StateProvinceName  ...        Education      Occupation Gender  \\\n",
            "0          New South Wales  ...        Bachelors        Clerical      M   \n",
            "1         British Columbia  ...  Partial College        Clerical      M   \n",
            "2               California  ...        Bachelors        Clerical      F   \n",
            "3                  England  ...  Partial College  Skilled Manual      M   \n",
            "4      Nordrhein-Westfalen  ...  Partial College  Skilled Manual      M   \n",
            "...                    ...  ...              ...             ...    ...   \n",
            "18356           California  ...  Graduate Degree  Skilled Manual      F   \n",
            "18357      New South Wales  ...        Bachelors  Skilled Manual      F   \n",
            "18358               Oregon  ...  Partial College  Skilled Manual      F   \n",
            "18359     British Columbia  ...      High School        Clerical      F   \n",
            "18360           California  ...  Graduate Degree    Professional      F   \n",
            "\n",
            "      MaritalStatus HomeOwnerFlag NumberCarsOwned NumberChildrenAtHome  \\\n",
            "0                 M             1               3                    0   \n",
            "1                 M             1               2                    1   \n",
            "2                 S             0               3                    0   \n",
            "3                 M             1               2                    1   \n",
            "4                 S             1               1                    0   \n",
            "...             ...           ...             ...                  ...   \n",
            "18356             M             0               1                    0   \n",
            "18357             S             0               2                    0   \n",
            "18358             S             0               2                    0   \n",
            "18359             S             0               0                    0   \n",
            "18360             M             1               2                    0   \n",
            "\n",
            "      TotalChildren  YearlyIncome  LastUpdated  \n",
            "0                 1         81916   2017-03-06  \n",
            "1                 2         81076   2017-03-06  \n",
            "2                 0         86387   2017-03-06  \n",
            "3                 2         61481   2017-03-06  \n",
            "4                 0         51804   2017-03-06  \n",
            "...             ...           ...          ...  \n",
            "18356             2         52953   2017-03-06  \n",
            "18357             0         60992   2017-03-06  \n",
            "18358             0         51859   2017-03-06  \n",
            "18359             0         87177   2017-03-06  \n",
            "18360             0        136856   2017-03-06  \n",
            "\n",
            "[18361 rows x 24 columns]>\n",
            "  Gender MaritalStatus  Age        Education  HomeOwnerFlag  NumberCarsOwned  \\\n",
            "0      M             M   38        Bachelors              1                3   \n",
            "1      M             M   53  Partial College              1                2   \n",
            "2      F             S   40        Bachelors              0                3   \n",
            "3      M             M   48  Partial College              1                2   \n",
            "4      M             S   50  Partial College              1                1   \n",
            "\n",
            "   NumberChildrenAtHome  TotalChildren  YearlyIncome  BikeBuyer  \n",
            "0                     0              1         81916          1  \n",
            "1                     1              2         81076          1  \n",
            "2                     0              0         86387          1  \n",
            "3                     1              2         61481          1  \n",
            "4                     0              0         51804          1  \n"
          ]
        }
      ],
      "source": [
        "import pandas as pd\n",
        "from datetime import datetime\n",
        "from sklearn.preprocessing import MaxAbsScaler\n",
        "df=pd.read_csv('AWCustomers.csv')\n",
        "print(df.head)\n",
        "sales=pd.read_csv('AWSales.csv')\n",
        "merged_df=pd.merge(df,sales,on='CustomerID')\n",
        "merged_df['BirthDate']=pd.to_datetime(merged_df['BirthDate'],errors='coerce') ## converts the birthdate to the format DD-MM-YYY HH:MM:SS\n",
        "merged_df['Age']=datetime.now().year-merged_df['BirthDate'].dt.year ## Calculates age by extracting age from current date and year from birthdate and subtracting them both\n",
        "new_columns=[\n",
        "    'Gender',\n",
        "    'MaritalStatus',\n",
        "    'Age',\n",
        "    'Education',\n",
        "    'HomeOwnerFlag',\n",
        "    'NumberCarsOwned',\n",
        "    'NumberChildrenAtHome',\n",
        "    'TotalChildren',\n",
        "    'YearlyIncome',\n",
        "    'BikeBuyer'\n",
        "]\n",
        "new_df=merged_df[new_columns]\n",
        "print(new_df.head())"
      ]
    },
    {
      "cell_type": "markdown",
      "source": [
        "Part 2 : Data Preprocessing and Transformation"
      ],
      "metadata": {
        "id": "rzSmNYeq1ycF"
      }
    },
    {
      "cell_type": "code",
      "source": [
        "print(new_df.isnull().sum())\n",
        "new_df=new_df.dropna()\n",
        "\n",
        "## Normalisation\n",
        "cols=['Age','YearlyIncome','TotalChildren']\n",
        "scaler=MaxAbsScaler()\n",
        "scaled=scaler.fit_transform(new_df[cols])\n",
        "new_df[cols]=pd.DataFrame(scaled,columns=cols,index=new_df.index)\n",
        "\n",
        "##Discretization\n",
        "new_df['AgeGroup']=pd.cut(\n",
        "    new_df['Age'],\n",
        "    bins=[0,0.3,0.6,1],\n",
        "    labels=['Young','Middle-Aged','Senior']\n",
        ")\n",
        "\n",
        "# print(new_df['AgeGroup'].value_counts())\n",
        "\n",
        "##Standardisation\n",
        "from sklearn.preprocessing import StandardScaler\n",
        "col=['NumberCarsOwned','NumberChildrenAtHome']\n",
        "scaler2=StandardScaler()\n",
        "new_df[col]=scaler2.fit_transform(new_df[col])\n",
        "\n",
        "##Binarization\n",
        "final_df=pd.get_dummies(new_df,columns=['Gender','MaritalStatus','Education','AgeGroup'])\n",
        "print(final_df.head())"
      ],
      "metadata": {
        "colab": {
          "base_uri": "https://localhost:8080/"
        },
        "id": "7GYvUpjS1UmR",
        "outputId": "e1d59ae9-c3fb-4cb4-82ee-e740527ffb53"
      },
      "execution_count": 5,
      "outputs": [
        {
          "output_type": "stream",
          "name": "stdout",
          "text": [
            "Gender                  0\n",
            "MaritalStatus           0\n",
            "Age                     0\n",
            "Education               0\n",
            "HomeOwnerFlag           0\n",
            "NumberCarsOwned         0\n",
            "NumberChildrenAtHome    0\n",
            "TotalChildren           0\n",
            "YearlyIncome            0\n",
            "BikeBuyer               0\n",
            "dtype: int64\n",
            "        Age  HomeOwnerFlag  NumberCarsOwned  NumberChildrenAtHome  \\\n",
            "0  0.400000              1         1.892524             -0.594371   \n",
            "1  0.557895              1         0.798389              1.163279   \n",
            "2  0.421053              0         1.892524             -0.594371   \n",
            "3  0.505263              1         0.798389              1.163279   \n",
            "4  0.526316              1        -0.295746             -0.594371   \n",
            "\n",
            "   TotalChildren  YearlyIncome  BikeBuyer  Gender_F  Gender_M  \\\n",
            "0       0.333333      0.588837          1     False      True   \n",
            "1       0.666667      0.582798          1     False      True   \n",
            "2       0.000000      0.620975          1      True     False   \n",
            "3       0.666667      0.441944          1     False      True   \n",
            "4       0.000000      0.372383          1     False      True   \n",
            "\n",
            "   MaritalStatus_M  MaritalStatus_S  Education_Bachelors  \\\n",
            "0             True            False                 True   \n",
            "1             True            False                False   \n",
            "2            False             True                 True   \n",
            "3             True            False                False   \n",
            "4            False             True                False   \n",
            "\n",
            "   Education_Graduate Degree  Education_High School  \\\n",
            "0                      False                  False   \n",
            "1                      False                  False   \n",
            "2                      False                  False   \n",
            "3                      False                  False   \n",
            "4                      False                  False   \n",
            "\n",
            "   Education_Partial College  Education_Partial High School  AgeGroup_Young  \\\n",
            "0                      False                          False           False   \n",
            "1                       True                          False           False   \n",
            "2                      False                          False           False   \n",
            "3                       True                          False           False   \n",
            "4                       True                          False           False   \n",
            "\n",
            "   AgeGroup_Middle-Aged  AgeGroup_Senior  \n",
            "0                  True            False  \n",
            "1                  True            False  \n",
            "2                  True            False  \n",
            "3                  True            False  \n",
            "4                  True            False  \n"
          ]
        }
      ]
    },
    {
      "cell_type": "markdown",
      "source": [
        "Part 3 : Calculating Proximity /Correlation Analysis of two features"
      ],
      "metadata": {
        "id": "T9ruYhWN12u_"
      }
    },
    {
      "cell_type": "code",
      "source": [
        "from sklearn.metrics.pairwise import cosine_similarity\n",
        "import numpy as np\n",
        "obj1=final_df.iloc[0]\n",
        "obj2=final_df.iloc[1]\n",
        "A=obj1.values\n",
        "B=obj2.values\n",
        "\n",
        "## Simple Matching Coefficient\n",
        "match=np.sum(A==B)\n",
        "size=len(A)\n",
        "smc=match/size\n",
        "print(smc)\n",
        "\n",
        "## Jaccard\n",
        "match=np.sum((A==1) & (B==1))\n",
        "denominator=np.sum((A==1) | (B==1))\n",
        "jaccard=match/denominator\n",
        "print(jaccard)\n",
        "\n",
        "##cosine\n",
        "cosine=cosine_similarity([A],[B])\n",
        "print(cosine)"
      ],
      "metadata": {
        "colab": {
          "base_uri": "https://localhost:8080/"
        },
        "id": "eyEAXbc31Y0H",
        "outputId": "d4bb32af-15ae-4d93-8c20-5eacc340659a"
      },
      "execution_count": 6,
      "outputs": [
        {
          "output_type": "stream",
          "name": "stdout",
          "text": [
            "0.631578947368421\n",
            "0.7142857142857143\n",
            "[[0.67485062]]\n"
          ]
        }
      ]
    }
  ]
}
