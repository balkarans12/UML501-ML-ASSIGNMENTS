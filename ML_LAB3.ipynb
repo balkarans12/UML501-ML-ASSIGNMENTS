{
  "nbformat": 4,
  "nbformat_minor": 0,
  "metadata": {
    "colab": {
      "provenance": []
    },
    "kernelspec": {
      "name": "python3",
      "display_name": "Python 3"
    },
    "language_info": {
      "name": "python"
    }
  },
  "cells": [
    {
      "cell_type": "markdown",
      "source": [
        "NAME : BALKARAN SINGH BATCH : 3Q11 ROLL NO : 102317009"
      ],
      "metadata": {
        "id": "PYpMoo3qNI-t"
      }
    },
    {
      "cell_type": "markdown",
      "source": [
        "ASSIGNMENT - 3"
      ],
      "metadata": {
        "id": "2tu4RrkoNKGM"
      }
    },
    {
      "cell_type": "code",
      "execution_count": null,
      "metadata": {
        "id": "u9lciltEKadt"
      },
      "outputs": [],
      "source": [
        "import numpy as np\n",
        "import pandas as pd\n",
        "from sklearn.model_selection import KFold, train_test_split\n",
        "from sklearn.preprocessing import StandardScaler, LabelEncoder\n",
        "from sklearn.metrics import r2_score\n",
        "from sklearn.linear_model import LinearRegression\n",
        "from sklearn.decomposition import PCA\n",
        "import requests"
      ]
    },
    {
      "cell_type": "markdown",
      "source": [
        "Q1. K-Fold Cross Validation for Multiple Linear Regression (Least Square Error Fit)"
      ],
      "metadata": {
        "id": "MF8KTr1LNV4b"
      }
    },
    {
      "cell_type": "code",
      "source": [
        "url1 = \"https://drive.google.com/uc?export=download&id=1O_NwpJT-8xGfU_-3llUl2sgPu0xllOrX\"\n",
        "house_data = pd.read_csv(url1)\n",
        "\n",
        "X = house_data.drop(columns=[\"Price\"]).values\n",
        "y = house_data[\"Price\"].values\n",
        "\n",
        "scaler = StandardScaler()\n",
        "X_scaled = scaler.fit_transform(X)\n",
        "\n",
        "kf = KFold(n_splits=5, shuffle=True, random_state=42)\n",
        "\n",
        "best_beta = None\n",
        "best_r2 = -np.inf\n",
        "\n",
        "fold = 1\n",
        "for train_idx, test_idx in kf.split(X_scaled):\n",
        "    X_train, X_test = X_scaled[train_idx], X_scaled[test_idx]\n",
        "    y_train, y_test = y[train_idx], y[test_idx]\n",
        "\n",
        "    beta = np.linalg.inv(X_train.T @ X_train) @ (X_train.T @ y_train)\n",
        "\n",
        "    y_pred = X_test @ beta\n",
        "    r2 = r2_score(y_test, y_pred)\n",
        "\n",
        "    print(f\"Fold {fold} R2 Score: {r2:.4f}\")\n",
        "    fold += 1\n",
        "\n",
        "    if r2 > best_r2:\n",
        "        best_r2 = r2\n",
        "        best_beta = beta\n",
        "\n",
        "print(\"\\nBest R2 Score from CV:\", best_r2)\n",
        "\n",
        "X_train, X_test, y_train, y_test = train_test_split(X_scaled, y, test_size=0.3, random_state=42)\n",
        "beta_final = np.linalg.inv(X_train.T @ X_train) @ (X_train.T @ y_train)\n",
        "\n",
        "y_pred_final = X_test @ beta_final\n",
        "print(\"Final R2 Score (70/30 split):\", r2_score(y_test, y_pred_final))"
      ],
      "metadata": {
        "colab": {
          "base_uri": "https://localhost:8080/"
        },
        "id": "uyWiq3d9MIru",
        "outputId": "5bb130ca-0b0a-4a59-adcd-9a74be0bf2f8"
      },
      "execution_count": null,
      "outputs": [
        {
          "output_type": "stream",
          "name": "stdout",
          "text": [
            "Fold 1 R2 Score: -11.4420\n",
            "Fold 2 R2 Score: -11.8285\n",
            "Fold 3 R2 Score: -11.6144\n",
            "Fold 4 R2 Score: -10.9997\n",
            "Fold 5 R2 Score: -10.5798\n",
            "\n",
            "Best R2 Score from CV: -10.579758582041713\n",
            "Final R2 Score (70/30 split): -12.003903385562284\n"
          ]
        }
      ]
    },
    {
      "cell_type": "markdown",
      "source": [
        "Q2. Concept of Validation set for Multiple Linear Regression (Gradient Descent\n",
        "Optimization)"
      ],
      "metadata": {
        "id": "uSnyBYfHNXX6"
      }
    },
    {
      "cell_type": "code",
      "source": [
        "X_train_val, X_test, y_train_val, y_test = train_test_split(X_scaled, y, test_size=0.3, random_state=42)\n",
        "X_train, X_val, y_train, y_val = train_test_split(X_train_val, y_train_val, test_size=0.2, random_state=42)\n",
        "\n",
        "def gradient_descent(X, y, lr, iterations=1000):\n",
        "    m, n = X.shape\n",
        "    beta = np.zeros(n)\n",
        "    for _ in range(iterations):\n",
        "        gradient = -(2/m) * (X.T @ (y - X @ beta))\n",
        "        beta -= lr * gradient\n",
        "    return beta\n",
        "\n",
        "learning_rates = [0.001, 0.01, 0.1, 1]\n",
        "best_beta = None\n",
        "best_val_r2 = -np.inf\n",
        "\n",
        "for lr in learning_rates:\n",
        "    beta = gradient_descent(X_train, y_train, lr=lr, iterations=1000)\n",
        "    y_val_pred = X_val @ beta\n",
        "    y_test_pred = X_test @ beta\n",
        "\n",
        "    r2_val = r2_score(y_val, y_val_pred)\n",
        "    r2_test = r2_score(y_test, y_test_pred)\n",
        "\n",
        "    print(f\"\\nLearning Rate {lr}:\")\n",
        "    print(\"Validation R2:\", r2_val)\n",
        "    print(\"Test R2:\", r2_test)\n",
        "\n",
        "    if r2_val > best_val_r2:\n",
        "        best_val_r2 = r2_val\n",
        "        best_beta = beta\n",
        "\n",
        "print(\"\\nBest Beta (from validation) coefficients:\\n\", best_beta)"
      ],
      "metadata": {
        "colab": {
          "base_uri": "https://localhost:8080/"
        },
        "id": "9hc7LSrqMZca",
        "outputId": "b2ae57f9-5e01-48e3-a807-9d40027c1e28"
      },
      "execution_count": null,
      "outputs": [
        {
          "output_type": "stream",
          "name": "stdout",
          "text": [
            "\n",
            "Learning Rate 0.001:\n",
            "Validation R2: -11.309840188168787\n",
            "Test R2: -12.05506738296265\n",
            "\n",
            "Learning Rate 0.01:\n",
            "Validation R2: -11.318069140536533\n",
            "Test R2: -12.010979529759709\n",
            "\n",
            "Learning Rate 0.1:\n",
            "Validation R2: -11.31806970348623\n",
            "Test R2: -12.010979232167713\n",
            "\n",
            "Learning Rate 1:\n",
            "Validation R2: -inf\n",
            "Test R2: -inf\n",
            "\n",
            "Best Beta (from validation) coefficients:\n",
            " [196011.02066971 138171.30668778 117004.69583016  39664.25921488\n",
            " 116553.34299286]\n"
          ]
        },
        {
          "output_type": "stream",
          "name": "stderr",
          "text": [
            "/usr/local/lib/python3.12/dist-packages/sklearn/metrics/_regression.py:1275: RuntimeWarning: overflow encountered in square\n",
            "  numerator = xp.sum(weight * (y_true - y_pred) ** 2, axis=0)\n",
            "/usr/local/lib/python3.12/dist-packages/sklearn/metrics/_regression.py:1275: RuntimeWarning: overflow encountered in square\n",
            "  numerator = xp.sum(weight * (y_true - y_pred) ** 2, axis=0)\n"
          ]
        }
      ]
    },
    {
      "cell_type": "markdown",
      "source": [
        "Q3. Pre-processing and Multiple Linear Regression"
      ],
      "metadata": {
        "id": "0MaKKDHfNc83"
      }
    },
    {
      "cell_type": "code",
      "source": [
        "url2 = \"https://archive.ics.uci.edu/ml/machine-learning-databases/autos/imports-85.data\"\n",
        "\n",
        "columns = [\"symboling\", \"normalized_losses\", \"make\", \"fuel_type\", \"aspiration\", \"num_doors\",\n",
        "           \"body_style\", \"drive_wheels\", \"engine_location\", \"wheel_base\", \"length\", \"width\",\n",
        "           \"height\", \"curb_weight\", \"engine_type\", \"num_cylinders\", \"engine_size\", \"fuel_system\",\n",
        "           \"bore\", \"stroke\", \"compression_ratio\", \"horsepower\", \"peak_rpm\", \"city_mpg\",\n",
        "           \"highway_mpg\", \"price\"]\n",
        "\n",
        "car_data = pd.read_csv(url2, names=columns)\n",
        "\n",
        "car_data = car_data.replace(\"?\", np.nan)\n",
        "car_data = car_data.dropna(subset=[\"price\"])\n",
        "\n",
        "numeric_cols = [\"symboling\",\"normalized_losses\",\"wheel_base\",\"length\",\"width\",\"height\",\n",
        "                \"curb_weight\",\"engine_size\",\"bore\",\"stroke\",\"compression_ratio\",\"horsepower\",\n",
        "                \"peak_rpm\",\"city_mpg\",\"highway_mpg\",\"price\"]\n",
        "\n",
        "for col in numeric_cols:\n",
        "    car_data[col] = pd.to_numeric(car_data[col], errors=\"coerce\")\n",
        "\n",
        "car_data[numeric_cols] = car_data[numeric_cols].fillna(car_data[numeric_cols].median())\n",
        "\n",
        "car_data[\"num_doors\"] = car_data[\"num_doors\"].replace({\"two\": 2, \"four\": 4}).astype(float)\n",
        "car_data[\"num_cylinders\"] = car_data[\"num_cylinders\"].replace(\n",
        "    {\"two\": 2, \"three\": 3, \"four\": 4, \"five\": 5, \"six\": 6,\n",
        "     \"eight\": 8, \"twelve\": 12}).astype(float)\n",
        "\n",
        "car_data[\"num_doors\"].fillna(car_data[\"num_doors\"].median(), inplace=True)\n",
        "car_data[\"num_cylinders\"].fillna(car_data[\"num_cylinders\"].median(), inplace=True)\n",
        "\n",
        "car_data = pd.get_dummies(car_data, columns=[\"body_style\", \"drive_wheels\"], drop_first=True)\n",
        "\n",
        "label_cols = [\"make\", \"aspiration\", \"engine_location\", \"fuel_type\"]\n",
        "for col in label_cols:\n",
        "    le = LabelEncoder()\n",
        "    car_data[col] = le.fit_transform(car_data[col].astype(str))\n",
        "\n",
        "car_data[\"fuel_system\"] = car_data[\"fuel_system\"].apply(lambda x: 1 if pd.notna(x) and \"pfi\" in str(x) else 0)\n",
        "car_data[\"engine_type\"] = car_data[\"engine_type\"].apply(lambda x: 1 if pd.notna(x) and \"ohc\" in str(x) else 0)\n",
        "\n",
        "X_car = car_data.drop(columns=[\"price\"])\n",
        "y_car = car_data[\"price\"].astype(float)\n",
        "\n",
        "scaler = StandardScaler()\n",
        "X_car_scaled = scaler.fit_transform(X_car)\n",
        "\n",
        "X_train, X_test, y_train, y_test = train_test_split(X_car_scaled, y_car, test_size=0.3, random_state=42)\n",
        "\n",
        "lr = LinearRegression()\n",
        "lr.fit(X_train, y_train)\n",
        "y_pred = lr.predict(X_test)\n",
        "print(\"\\nCar Price Prediction R2 Score:\", r2_score(y_test, y_pred))\n",
        "\n",
        "pca = PCA(n_components=10)\n",
        "X_car_pca = pca.fit_transform(X_car_scaled)\n",
        "\n",
        "X_train_pca, X_test_pca, y_train_pca, y_test_pca = train_test_split(X_car_pca, y_car, test_size=0.3, random_state=42)\n",
        "\n",
        "lr_pca = LinearRegression()\n",
        "lr_pca.fit(X_train_pca, y_train_pca)\n",
        "y_pred_pca = lr_pca.predict(X_test_pca)\n",
        "print(\"Car Price Prediction with PCA R2 Score:\", r2_score(y_test_pca, y_pred_pca))\n"
      ],
      "metadata": {
        "colab": {
          "base_uri": "https://localhost:8080/"
        },
        "id": "e8l8LdkQMe4a",
        "outputId": "fed93f80-95dc-4ac1-da96-68d8629e823d"
      },
      "execution_count": null,
      "outputs": [
        {
          "output_type": "stream",
          "name": "stdout",
          "text": [
            "\n",
            "Car Price Prediction R2 Score: 0.8734104772978124\n",
            "Car Price Prediction with PCA R2 Score: 0.8436522203644288\n"
          ]
        },
        {
          "output_type": "stream",
          "name": "stderr",
          "text": [
            "/tmp/ipython-input-1606221564.py:23: FutureWarning: Downcasting behavior in `replace` is deprecated and will be removed in a future version. To retain the old behavior, explicitly call `result.infer_objects(copy=False)`. To opt-in to the future behavior, set `pd.set_option('future.no_silent_downcasting', True)`\n",
            "  car_data[\"num_doors\"] = car_data[\"num_doors\"].replace({\"two\": 2, \"four\": 4}).astype(float)\n",
            "/tmp/ipython-input-1606221564.py:24: FutureWarning: Downcasting behavior in `replace` is deprecated and will be removed in a future version. To retain the old behavior, explicitly call `result.infer_objects(copy=False)`. To opt-in to the future behavior, set `pd.set_option('future.no_silent_downcasting', True)`\n",
            "  car_data[\"num_cylinders\"] = car_data[\"num_cylinders\"].replace(\n",
            "/tmp/ipython-input-1606221564.py:28: FutureWarning: A value is trying to be set on a copy of a DataFrame or Series through chained assignment using an inplace method.\n",
            "The behavior will change in pandas 3.0. This inplace method will never work because the intermediate object on which we are setting values always behaves as a copy.\n",
            "\n",
            "For example, when doing 'df[col].method(value, inplace=True)', try using 'df.method({col: value}, inplace=True)' or df[col] = df[col].method(value) instead, to perform the operation inplace on the original object.\n",
            "\n",
            "\n",
            "  car_data[\"num_doors\"].fillna(car_data[\"num_doors\"].median(), inplace=True)\n",
            "/tmp/ipython-input-1606221564.py:29: FutureWarning: A value is trying to be set on a copy of a DataFrame or Series through chained assignment using an inplace method.\n",
            "The behavior will change in pandas 3.0. This inplace method will never work because the intermediate object on which we are setting values always behaves as a copy.\n",
            "\n",
            "For example, when doing 'df[col].method(value, inplace=True)', try using 'df.method({col: value}, inplace=True)' or df[col] = df[col].method(value) instead, to perform the operation inplace on the original object.\n",
            "\n",
            "\n",
            "  car_data[\"num_cylinders\"].fillna(car_data[\"num_cylinders\"].median(), inplace=True)\n"
          ]
        }
      ]
    }
  ]
}