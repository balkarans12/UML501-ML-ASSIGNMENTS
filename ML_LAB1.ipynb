{
  "nbformat": 4,
  "nbformat_minor": 0,
  "metadata": {
    "colab": {
      "provenance": []
    },
    "kernelspec": {
      "name": "python3",
      "display_name": "Python 3"
    },
    "language_info": {
      "name": "python"
    }
  },
  "cells": [
    {
      "cell_type": "markdown",
      "source": [
        "NAME : BALKARAN SINGH\n",
        "BATCH : 2Q11\n",
        "ROLL NO : 102317009"
      ],
      "metadata": {
        "id": "ux7bowZUUeH7"
      }
    },
    {
      "cell_type": "markdown",
      "source": [
        "ASSIGNMENT - 1 [NUMPY]"
      ],
      "metadata": {
        "id": "jRg5EauAUoyq"
      }
    },
    {
      "cell_type": "markdown",
      "source": [
        "Q1: Questions on Basic NumPy Array"
      ],
      "metadata": {
        "id": "BnQ3_MJ3VGWW"
      }
    },
    {
      "cell_type": "code",
      "source": [
        "import numpy as np\n",
        "from collections import Counter\n",
        "\n",
        "print(\"Q1:\")\n",
        "\n",
        "# (a)\n",
        "arr = np.array([1, 2, 3, 6, 4, 5])\n",
        "print(\"a) Reversed array:\", arr[::-1])\n",
        "\n",
        "# (b)\n",
        "array1 = np.array([[1, 2, 3], [2, 4, 5], [1, 2, 3]])\n",
        "print(\"b1) Flatten using flatten():\", array1.flatten())\n",
        "print(\"b2) Flatten using ravel():\", array1.ravel())\n",
        "\n",
        "# (c)\n",
        "arr1 = np.array([[1, 2], [3, 4]])\n",
        "arr2 = np.array([[1, 2], [3, 4]])\n",
        "print(\"c) Arrays are equal:\", np.array_equal(arr1, arr2))\n",
        "\n",
        "# (d)\n",
        "x = np.array([1,2,3,4,5,1,2,1,1,1])\n",
        "y = np.array([1, 1, 1, 2, 3, 4, 2, 4, 3, 3])\n",
        "freq_x = Counter(x).most_common(1)[0]\n",
        "freq_y = Counter(y).most_common(1)[0]\n",
        "print(f\"d1) Most frequent in x: {freq_x[0]} at indices {np.where(x == freq_x[0])[0]}\")\n",
        "print(f\"d2) Most frequent in y: {freq_y[0]} at indices {np.where(y == freq_y[0])[0]}\")\n",
        "\n",
        "# (e)\n",
        "gfg = np.matrix('[4, 1, 9; 12, 3, 1; 4, 5, 6]')\n",
        "print(\"e1) Sum of all elements:\", gfg.sum())\n",
        "print(\"e2) Row-wise sum:\", gfg.sum(axis=1))\n",
        "print(\"e3) Column-wise sum:\", gfg.sum(axis=0))\n",
        "\n",
        "# (f)\n",
        "n_array = np.array([[55, 25, 15],[30, 44, 2],[11, 45, 77]])\n",
        "print(\"f1) Diagonal sum:\", np.trace(n_array))\n",
        "eig_vals, eig_vecs = np.linalg.eig(n_array)\n",
        "print(\"f2) Eigenvalues:\", eig_vals)\n",
        "print(\"f3) Eigenvectors:\\n\", eig_vecs)\n",
        "print(\"f4) Inverse:\\n\", np.linalg.inv(n_array))\n",
        "print(\"f5) Determinant:\", np.linalg.det(n_array))\n",
        "\n",
        "# (g)\n",
        "p1 = np.array([[1, 2], [2, 3]])\n",
        "q1 = np.array([[4, 5], [6, 7]])\n",
        "print(\"g1) Matrix product 1:\\n\", np.dot(p1, q1))\n",
        "print(\"g1) Covariance 1:\\n\", np.cov(p1.flatten(), q1.flatten()))\n",
        "\n",
        "p2 = np.array([[1, 2], [2, 3], [4, 5]])\n",
        "q2 = np.array([[4, 5, 1], [6, 7, 2]])\n",
        "print(\"g2) Matrix product 2:\\n\", np.dot(p2, q2))\n",
        "print(\"g2) Covariance 2:\\n\", np.cov(p2.flatten(), q2.flatten()))\n",
        "\n",
        "# (h)\n",
        "x = np.array([[2, 3, 4], [3, 2, 9]])\n",
        "y = np.array([[1, 5, 0], [5, 10, 3]])\n",
        "print(\"h1) Inner product:\\n\", np.inner(x, y))\n",
        "print(\"h2) Outer product:\\n\", np.outer(x, y))\n",
        "cartesian = np.array(np.meshgrid(x.flatten(), y.flatten())).T.reshape(-1, 2)\n",
        "print(\"h3) Cartesian product:\\n\", cartesian)\n"
      ],
      "metadata": {
        "colab": {
          "base_uri": "https://localhost:8080/"
        },
        "id": "NoNzkJ_pVGJn",
        "outputId": "f2857090-b022-4133-9805-b09702d9b5c3"
      },
      "execution_count": 3,
      "outputs": [
        {
          "output_type": "stream",
          "name": "stdout",
          "text": [
            "Q1:\n",
            "a) Reversed array: [5 4 6 3 2 1]\n",
            "b1) Flatten using flatten(): [1 2 3 2 4 5 1 2 3]\n",
            "b2) Flatten using ravel(): [1 2 3 2 4 5 1 2 3]\n",
            "c) Arrays are equal: True\n",
            "d1) Most frequent in x: 1 at indices [0 5 7 8 9]\n",
            "d2) Most frequent in y: 1 at indices [0 1 2]\n",
            "e1) Sum of all elements: 45\n",
            "e2) Row-wise sum: [[14]\n",
            " [16]\n",
            " [15]]\n",
            "e3) Column-wise sum: [[20  9 16]]\n",
            "f1) Diagonal sum: 176\n",
            "f2) Eigenvalues: [98.16835147 28.097044   49.73460452]\n",
            "f3) Eigenvectors:\n",
            " [[ 0.4574917   0.34637121 -0.15017693]\n",
            " [ 0.28447814 -0.72784061 -0.4852124 ]\n",
            " [ 0.84248058  0.59184038  0.8614034 ]]\n",
            "f4) Inverse:\n",
            " [[ 0.02404141 -0.00911212 -0.00444671]\n",
            " [-0.01667882  0.02966905  0.0024785 ]\n",
            " [ 0.00631287 -0.01603732  0.01217379]]\n",
            "f5) Determinant: 137180.0000000001\n",
            "g1) Matrix product 1:\n",
            " [[16 19]\n",
            " [26 31]]\n",
            "g1) Covariance 1:\n",
            " [[0.66666667 1.        ]\n",
            " [1.         1.66666667]]\n",
            "g2) Matrix product 2:\n",
            " [[16 19  5]\n",
            " [26 31  8]\n",
            " [46 55 14]]\n",
            "g2) Covariance 2:\n",
            " [[2.16666667 0.23333333]\n",
            " [0.23333333 5.36666667]]\n",
            "h1) Inner product:\n",
            " [[17 52]\n",
            " [13 62]]\n",
            "h2) Outer product:\n",
            " [[ 2 10  0 10 20  6]\n",
            " [ 3 15  0 15 30  9]\n",
            " [ 4 20  0 20 40 12]\n",
            " [ 3 15  0 15 30  9]\n",
            " [ 2 10  0 10 20  6]\n",
            " [ 9 45  0 45 90 27]]\n",
            "h3) Cartesian product:\n",
            " [[ 2  1]\n",
            " [ 2  5]\n",
            " [ 2  0]\n",
            " [ 2  5]\n",
            " [ 2 10]\n",
            " [ 2  3]\n",
            " [ 3  1]\n",
            " [ 3  5]\n",
            " [ 3  0]\n",
            " [ 3  5]\n",
            " [ 3 10]\n",
            " [ 3  3]\n",
            " [ 4  1]\n",
            " [ 4  5]\n",
            " [ 4  0]\n",
            " [ 4  5]\n",
            " [ 4 10]\n",
            " [ 4  3]\n",
            " [ 3  1]\n",
            " [ 3  5]\n",
            " [ 3  0]\n",
            " [ 3  5]\n",
            " [ 3 10]\n",
            " [ 3  3]\n",
            " [ 2  1]\n",
            " [ 2  5]\n",
            " [ 2  0]\n",
            " [ 2  5]\n",
            " [ 2 10]\n",
            " [ 2  3]\n",
            " [ 9  1]\n",
            " [ 9  5]\n",
            " [ 9  0]\n",
            " [ 9  5]\n",
            " [ 9 10]\n",
            " [ 9  3]]\n"
          ]
        }
      ]
    },
    {
      "cell_type": "markdown",
      "source": [
        "Q2: Based on NumPy Mathematics and Statistics"
      ],
      "metadata": {
        "id": "F0YGofhLV5ZI"
      }
    },
    {
      "cell_type": "code",
      "source": [
        "print(\"\\nQ2:\")\n",
        "\n",
        "# (a)\n",
        "array = np.array([[1, -2, 3], [-4, 5, -6]])\n",
        "print(\"a1) Absolute values:\\n\", np.abs(array))\n",
        "\n",
        "# Percentiles\n",
        "flat = array.flatten()\n",
        "print(\"a2) Percentiles (flat):\", np.percentile(flat, [25, 50, 75]))\n",
        "print(\"a2) Percentiles (cols):\\n\", np.percentile(array, [25, 50, 75], axis=0))\n",
        "print(\"a2) Percentiles (rows):\\n\", np.percentile(array, [25, 50, 75], axis=1))\n",
        "\n",
        "# Mean, Median, Std\n",
        "print(\"a3) Mean (flat):\", np.mean(flat))\n",
        "print(\"a3) Median (flat):\", np.median(flat))\n",
        "print(\"a3) Std (flat):\", np.std(flat))\n",
        "\n",
        "print(\"a3) Mean (cols):\", np.mean(array, axis=0))\n",
        "print(\"a3) Median (cols):\", np.median(array, axis=0))\n",
        "print(\"a3) Std (cols):\", np.std(array, axis=0))\n",
        "\n",
        "print(\"a3) Mean (rows):\", np.mean(array, axis=1))\n",
        "print(\"a3) Median (rows):\", np.median(array, axis=1))\n",
        "print(\"a3) Std (rows):\", np.std(array, axis=1))\n",
        "\n",
        "# (b)\n",
        "a = np.array([-1.8, -1.6, -0.5, 0.5, 1.6, 1.8, 3.0])\n",
        "print(\"b1) Floor:\", np.floor(a))\n",
        "print(\"b2) Ceil:\", np.ceil(a))\n",
        "print(\"b3) Trunc:\", np.trunc(a))\n",
        "print(\"b4) Rounded:\", np.round(a))\n"
      ],
      "metadata": {
        "colab": {
          "base_uri": "https://localhost:8080/"
        },
        "id": "gMkEihrZV7ot",
        "outputId": "84720733-862d-4732-ecef-4bbc9315f4ac"
      },
      "execution_count": 4,
      "outputs": [
        {
          "output_type": "stream",
          "name": "stdout",
          "text": [
            "\n",
            "Q2:\n",
            "a1) Absolute values:\n",
            " [[1 2 3]\n",
            " [4 5 6]]\n",
            "a2) Percentiles (flat): [-3.5 -0.5  2.5]\n",
            "a2) Percentiles (cols):\n",
            " [[-2.75 -0.25 -3.75]\n",
            " [-1.5   1.5  -1.5 ]\n",
            " [-0.25  3.25  0.75]]\n",
            "a2) Percentiles (rows):\n",
            " [[-0.5 -5. ]\n",
            " [ 1.  -4. ]\n",
            " [ 2.   0.5]]\n",
            "a3) Mean (flat): -0.5\n",
            "a3) Median (flat): -0.5\n",
            "a3) Std (flat): 3.8622100754188224\n",
            "a3) Mean (cols): [-1.5  1.5 -1.5]\n",
            "a3) Median (cols): [-1.5  1.5 -1.5]\n",
            "a3) Std (cols): [2.5 3.5 4.5]\n",
            "a3) Mean (rows): [ 0.66666667 -1.66666667]\n",
            "a3) Median (rows): [ 1. -4.]\n",
            "a3) Std (rows): [2.05480467 4.78423336]\n",
            "b1) Floor: [-2. -2. -1.  0.  1.  1.  3.]\n",
            "b2) Ceil: [-1. -1. -0.  1.  2.  2.  3.]\n",
            "b3) Trunc: [-1. -1. -0.  0.  1.  1.  3.]\n",
            "b4) Rounded: [-2. -2. -0.  0.  2.  2.  3.]\n"
          ]
        }
      ]
    },
    {
      "cell_type": "markdown",
      "source": [
        "Q3: Based on Searching and Sorting"
      ],
      "metadata": {
        "id": "-H4oVCfiWAa3"
      }
    },
    {
      "cell_type": "code",
      "source": [
        "print(\"\\nQ3:\")\n",
        "\n",
        "# (a)\n",
        "array = np.array([10, 52, 62, 16, 16, 54, 453])\n",
        "print(\"a1) Sorted array:\", np.sort(array))\n",
        "print(\"a2) Indices of sorted array:\", np.argsort(array))\n",
        "print(\"a3) 4 smallest:\", np.sort(array)[:4])\n",
        "print(\"a4) 5 largest:\", np.sort(array)[-5:])\n",
        "\n",
        "# (b)\n",
        "array_b = np.array([1.0, 1.2, 2.2, 2.0, 3.0, 2.0])\n",
        "int_elements = array_b[array_b == array_b.astype(int)]\n",
        "float_elements = array_b[array_b != array_b.astype(int)]\n",
        "print(\"b1) Integer elements only:\", int_elements)\n",
        "print(\"b2) Float elements only:\", float_elements)\n"
      ],
      "metadata": {
        "colab": {
          "base_uri": "https://localhost:8080/"
        },
        "id": "RLosWNZdWACE",
        "outputId": "97d079cd-9c32-433f-9917-903f0f85c1f2"
      },
      "execution_count": 5,
      "outputs": [
        {
          "output_type": "stream",
          "name": "stdout",
          "text": [
            "\n",
            "Q3:\n",
            "a1) Sorted array: [ 10  16  16  52  54  62 453]\n",
            "a2) Indices of sorted array: [0 3 4 1 5 2 6]\n",
            "a3) 4 smallest: [10 16 16 52]\n",
            "a4) 5 largest: [ 16  52  54  62 453]\n",
            "b1) Integer elements only: [1. 2. 3. 2.]\n",
            "b2) Float elements only: [1.2 2.2]\n"
          ]
        }
      ]
    },
    {
      "cell_type": "markdown",
      "source": [
        "Q4:"
      ],
      "metadata": {
        "id": "ufJXWx-aWIhm"
      }
    },
    {
      "cell_type": "code",
      "source": [
        "from PIL import Image\n",
        "print(\"\\nQ4:\")\n",
        "\n",
        "# (a) Save image array to file\n",
        "def img_to_array(path):\n",
        "    img = Image.open(path)\n",
        "    img_array = np.array(img)\n",
        "    if len(img_array.shape) == 2:\n",
        "        np.savetxt(\"greyscale_image.txt\", img_array, fmt='%d')\n",
        "        print(\"a) Greyscale image saved to greyscale_image.txt\")\n",
        "    else:\n",
        "        for i in range(img_array.shape[2]):\n",
        "            np.savetxt(f\"rgb_channel_{i}.txt\", img_array[:, :, i], fmt='%d')\n",
        "        print(\"a) RGB image saved to rgb_channel_0.txt / 1 / 2\")\n",
        "    return img_array\n",
        "\n",
        "# (b) Load file from disk\n",
        "def load_from_file(path):\n",
        "    data = np.loadtxt(path, dtype=int)\n",
        "    print(f\"b) Loaded data from {path}:\\n\", data)\n",
        "    return data\n"
      ],
      "metadata": {
        "colab": {
          "base_uri": "https://localhost:8080/"
        },
        "id": "mpxtjK7OWKU2",
        "outputId": "339ed2cc-7a45-4595-91ee-e1d75d06f3ad"
      },
      "execution_count": 6,
      "outputs": [
        {
          "output_type": "stream",
          "name": "stdout",
          "text": [
            "\n",
            "Q4:\n"
          ]
        }
      ]
    }
  ]
}